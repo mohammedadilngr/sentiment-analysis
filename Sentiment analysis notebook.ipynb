{
 "cells": [
  {
   "cell_type": "markdown",
   "id": "1d574074",
   "metadata": {},
   "source": [
    "## Importing all the packages"
   ]
  },
  {
   "cell_type": "code",
   "execution_count": 33,
   "id": "b5772d92",
   "metadata": {},
   "outputs": [],
   "source": [
    "## Import all the libraries\n",
    "import pandas as pd\n",
    "import numpy as np\n",
    "import nltk\n",
    "import re\n",
    "from bs4 import BeautifulSoup  \n",
    "import warnings\n",
    "warnings.filterwarnings(\"ignore\")\n",
    "from nltk.corpus import stopwords\n",
    "import sklearn\n",
    "from sklearn.feature_extraction.text import CountVectorizer\n",
    "from sklearn.ensemble import RandomForestClassifier"
   ]
  },
  {
   "cell_type": "markdown",
   "id": "a67da645",
   "metadata": {},
   "source": [
    "## Read the data"
   ]
  },
  {
   "cell_type": "code",
   "execution_count": 40,
   "id": "b10c5580",
   "metadata": {},
   "outputs": [],
   "source": [
    "train_data=pd.read_csv(r\"D:\\PROJECTS\\PROJECT1\\labeledTrainData.tsv\\labeledTrainData.tsv\",header=0,sep='\\t',quoting=3)\n",
    "test_data=pd.read_csv(r\"D:\\PROJECTS\\PROJECT1\\testData.tsv\\testData.tsv\",header=0,sep='\\t',quoting=3)\n",
    "# unlabeled_train_data=pd.read_csv(r\"D:\\PROJECTS\\PROJECT1\\labeledTrainData.tsv\\labeledTrainData.tsv\",header=0,sep='\\t',quoting=3)"
   ]
  },
  {
   "cell_type": "code",
   "execution_count": 18,
   "id": "fb2d0f16",
   "metadata": {},
   "outputs": [
    {
     "name": "stdout",
     "output_type": "stream",
     "text": [
      "Variable        Type         Data/Info\n",
      "--------------------------------------\n",
      "BeautifulSoup   type         <class 'bs4.BeautifulSoup'>\n",
      "nltk            module       <module 'nltk' from 'C:\\\\<...>ages\\\\nltk\\\\__init__.py'>\n",
      "np              module       <module 'numpy' from 'C:\\<...>ges\\\\numpy\\\\__init__.py'>\n",
      "pd              module       <module 'pandas' from 'C:<...>es\\\\pandas\\\\__init__.py'>\n",
      "re              module       <module 're' from 'C:\\\\Us<...>1\\\\Lib\\\\re\\\\__init__.py'>\n",
      "train_data      DataFrame                  id  sentime<...>n[25000 rows x 3 columns]\n"
     ]
    }
   ],
   "source": [
    "%whos"
   ]
  },
  {
   "cell_type": "markdown",
   "id": "2dd6de61",
   "metadata": {},
   "source": [
    "### About data"
   ]
  },
  {
   "cell_type": "code",
   "execution_count": 26,
   "id": "94e71bed",
   "metadata": {},
   "outputs": [],
   "source": [
    "### All the id are unique\n",
    "### Positive sentiment 12500\n",
    "### negative sentiment 12500\n",
    "\n",
    "\n",
    "### Columns :  ['id', 'sentiment', 'review']\n",
    "\n"
   ]
  },
  {
   "cell_type": "markdown",
   "id": "938c748e",
   "metadata": {},
   "source": [
    "### Preprocessing the data (Cleaning)"
   ]
  },
  {
   "cell_type": "code",
   "execution_count": 41,
   "id": "1dd099e4",
   "metadata": {},
   "outputs": [],
   "source": [
    "###   removing tags\n",
    "train_data['review']=train_data['review'].apply(lambda x:BeautifulSoup(x).get_text())\n",
    "test_data['review']=test_data['review'].apply(lambda x:BeautifulSoup(x).get_text())"
   ]
  },
  {
   "cell_type": "code",
   "execution_count": 42,
   "id": "c852153f",
   "metadata": {},
   "outputs": [],
   "source": [
    "###   removing special charcters\n",
    "train_data['review']=train_data['review'].apply(lambda x:re.sub(\"[^a-zA-Z]\",\" \",x))\n",
    "test_data['review']=test_data['review'].apply(lambda x:re.sub(\"[^a-zA-Z]\",\" \",x))"
   ]
  },
  {
   "cell_type": "code",
   "execution_count": 43,
   "id": "ab12b4bc",
   "metadata": {},
   "outputs": [],
   "source": [
    "###   lower case\n",
    "train_data['review']=train_data['review'].str.lower()\n",
    "test_data['review']=test_data['review'].str.lower()"
   ]
  },
  {
   "cell_type": "code",
   "execution_count": 44,
   "id": "302eef6e",
   "metadata": {},
   "outputs": [],
   "source": [
    "###   split into words\n",
    "train_data['review']=train_data['review'].str.split()\n",
    "test_data['review']=test_data['review'].str.split()"
   ]
  },
  {
   "cell_type": "code",
   "execution_count": 45,
   "id": "3bfe8b9a",
   "metadata": {},
   "outputs": [],
   "source": [
    "###    remove stopwords (english)  using nltk.corpus \n",
    "all_stopwords=set(stopwords.words('english'))\n",
    "def remove_stopword(x):\n",
    "    words=[word for word in x if word not in all_stopwords]\n",
    "    return ' '.join(words)\n",
    "\n",
    "train_data['review']=train_data['review'].apply(lambda x: remove_stopword(x))\n",
    "test_data['review']=test_data['review'].apply(lambda x: remove_stopword(x))"
   ]
  },
  {
   "cell_type": "code",
   "execution_count": 46,
   "id": "50360957",
   "metadata": {},
   "outputs": [],
   "source": [
    "###   creating list of words\n",
    "all_words=[]\n",
    "for i in train_data['review']:\n",
    "    all_words.append(i)\n"
   ]
  },
  {
   "cell_type": "code",
   "execution_count": 47,
   "id": "bd302f7a",
   "metadata": {},
   "outputs": [],
   "source": [
    "####   creating list of test data words\n",
    "all_test_words=[]\n",
    "for i in test_data['review']:\n",
    "    all_test_words.append(i)\n"
   ]
  },
  {
   "cell_type": "markdown",
   "id": "a498110f",
   "metadata": {},
   "source": [
    "## Creating features"
   ]
  },
  {
   "cell_type": "code",
   "execution_count": 48,
   "id": "f6a57900",
   "metadata": {},
   "outputs": [],
   "source": [
    "##  Using count vectorizer\n",
    "count_vectorizer=CountVectorizer(analyzer='word',tokenizer=None,preprocessor = None,stop_words = None,max_features = 5000) \n",
    "train_data_features=count_vectorizer.fit_transform(all_words)\n",
    "test_data_features=count_vectorizer.transform(all_test_words)"
   ]
  },
  {
   "cell_type": "code",
   "execution_count": 49,
   "id": "cef145d1",
   "metadata": {},
   "outputs": [
    {
     "ename": "MemoryError",
     "evalue": "Unable to allocate 954. MiB for an array with shape (25000, 5000) and data type int64",
     "output_type": "error",
     "traceback": [
      "\u001b[1;31m---------------------------------------------------------------------------\u001b[0m",
      "\u001b[1;31mMemoryError\u001b[0m                               Traceback (most recent call last)",
      "Cell \u001b[1;32mIn[49], line 2\u001b[0m\n\u001b[0;32m      1\u001b[0m train_data_features \u001b[38;5;241m=\u001b[39m train_data_features\u001b[38;5;241m.\u001b[39mtoarray()\n\u001b[1;32m----> 2\u001b[0m test_data_features \u001b[38;5;241m=\u001b[39m test_data_features\u001b[38;5;241m.\u001b[39mtoarray()\n",
      "File \u001b[1;32m~\\anaconda3.1\\envs\\project1\\Lib\\site-packages\\scipy\\sparse\\_compressed.py:1050\u001b[0m, in \u001b[0;36m_cs_matrix.toarray\u001b[1;34m(self, order, out)\u001b[0m\n\u001b[0;32m   1048\u001b[0m \u001b[38;5;28;01mif\u001b[39;00m out \u001b[38;5;129;01mis\u001b[39;00m \u001b[38;5;28;01mNone\u001b[39;00m \u001b[38;5;129;01mand\u001b[39;00m order \u001b[38;5;129;01mis\u001b[39;00m \u001b[38;5;28;01mNone\u001b[39;00m:\n\u001b[0;32m   1049\u001b[0m     order \u001b[38;5;241m=\u001b[39m \u001b[38;5;28mself\u001b[39m\u001b[38;5;241m.\u001b[39m_swap(\u001b[38;5;124m'\u001b[39m\u001b[38;5;124mcf\u001b[39m\u001b[38;5;124m'\u001b[39m)[\u001b[38;5;241m0\u001b[39m]\n\u001b[1;32m-> 1050\u001b[0m out \u001b[38;5;241m=\u001b[39m \u001b[38;5;28mself\u001b[39m\u001b[38;5;241m.\u001b[39m_process_toarray_args(order, out)\n\u001b[0;32m   1051\u001b[0m \u001b[38;5;28;01mif\u001b[39;00m \u001b[38;5;129;01mnot\u001b[39;00m (out\u001b[38;5;241m.\u001b[39mflags\u001b[38;5;241m.\u001b[39mc_contiguous \u001b[38;5;129;01mor\u001b[39;00m out\u001b[38;5;241m.\u001b[39mflags\u001b[38;5;241m.\u001b[39mf_contiguous):\n\u001b[0;32m   1052\u001b[0m     \u001b[38;5;28;01mraise\u001b[39;00m \u001b[38;5;167;01mValueError\u001b[39;00m(\u001b[38;5;124m'\u001b[39m\u001b[38;5;124mOutput array must be C or F contiguous\u001b[39m\u001b[38;5;124m'\u001b[39m)\n",
      "File \u001b[1;32m~\\anaconda3.1\\envs\\project1\\Lib\\site-packages\\scipy\\sparse\\_base.py:1267\u001b[0m, in \u001b[0;36m_spbase._process_toarray_args\u001b[1;34m(self, order, out)\u001b[0m\n\u001b[0;32m   1265\u001b[0m     \u001b[38;5;28;01mreturn\u001b[39;00m out\n\u001b[0;32m   1266\u001b[0m \u001b[38;5;28;01melse\u001b[39;00m:\n\u001b[1;32m-> 1267\u001b[0m     \u001b[38;5;28;01mreturn\u001b[39;00m np\u001b[38;5;241m.\u001b[39mzeros(\u001b[38;5;28mself\u001b[39m\u001b[38;5;241m.\u001b[39mshape, dtype\u001b[38;5;241m=\u001b[39m\u001b[38;5;28mself\u001b[39m\u001b[38;5;241m.\u001b[39mdtype, order\u001b[38;5;241m=\u001b[39morder)\n",
      "\u001b[1;31mMemoryError\u001b[0m: Unable to allocate 954. MiB for an array with shape (25000, 5000) and data type int64"
     ]
    }
   ],
   "source": [
    "train_data_features = train_data_features.toarray()\n",
    "test_data_features = test_data_features.toarray()\n"
   ]
  },
  {
   "cell_type": "markdown",
   "id": "df3ca3fa",
   "metadata": {},
   "source": [
    "## model fitting "
   ]
  },
  {
   "cell_type": "code",
   "execution_count": 37,
   "id": "cd297a82",
   "metadata": {},
   "outputs": [],
   "source": [
    "## fitting random forest model on train data\n",
    "random_forest=RandomForestClassifier(n_estimators=100)\n",
    "random_forest=random_forest.fit(train_data_features,train_data['sentiment'])\n",
    "\n"
   ]
  },
  {
   "cell_type": "code",
   "execution_count": 38,
   "id": "0592d327",
   "metadata": {},
   "outputs": [
    {
     "data": {
      "text/html": [
       "<style>#sk-container-id-2 {color: black;}#sk-container-id-2 pre{padding: 0;}#sk-container-id-2 div.sk-toggleable {background-color: white;}#sk-container-id-2 label.sk-toggleable__label {cursor: pointer;display: block;width: 100%;margin-bottom: 0;padding: 0.3em;box-sizing: border-box;text-align: center;}#sk-container-id-2 label.sk-toggleable__label-arrow:before {content: \"▸\";float: left;margin-right: 0.25em;color: #696969;}#sk-container-id-2 label.sk-toggleable__label-arrow:hover:before {color: black;}#sk-container-id-2 div.sk-estimator:hover label.sk-toggleable__label-arrow:before {color: black;}#sk-container-id-2 div.sk-toggleable__content {max-height: 0;max-width: 0;overflow: hidden;text-align: left;background-color: #f0f8ff;}#sk-container-id-2 div.sk-toggleable__content pre {margin: 0.2em;color: black;border-radius: 0.25em;background-color: #f0f8ff;}#sk-container-id-2 input.sk-toggleable__control:checked~div.sk-toggleable__content {max-height: 200px;max-width: 100%;overflow: auto;}#sk-container-id-2 input.sk-toggleable__control:checked~label.sk-toggleable__label-arrow:before {content: \"▾\";}#sk-container-id-2 div.sk-estimator input.sk-toggleable__control:checked~label.sk-toggleable__label {background-color: #d4ebff;}#sk-container-id-2 div.sk-label input.sk-toggleable__control:checked~label.sk-toggleable__label {background-color: #d4ebff;}#sk-container-id-2 input.sk-hidden--visually {border: 0;clip: rect(1px 1px 1px 1px);clip: rect(1px, 1px, 1px, 1px);height: 1px;margin: -1px;overflow: hidden;padding: 0;position: absolute;width: 1px;}#sk-container-id-2 div.sk-estimator {font-family: monospace;background-color: #f0f8ff;border: 1px dotted black;border-radius: 0.25em;box-sizing: border-box;margin-bottom: 0.5em;}#sk-container-id-2 div.sk-estimator:hover {background-color: #d4ebff;}#sk-container-id-2 div.sk-parallel-item::after {content: \"\";width: 100%;border-bottom: 1px solid gray;flex-grow: 1;}#sk-container-id-2 div.sk-label:hover label.sk-toggleable__label {background-color: #d4ebff;}#sk-container-id-2 div.sk-serial::before {content: \"\";position: absolute;border-left: 1px solid gray;box-sizing: border-box;top: 0;bottom: 0;left: 50%;z-index: 0;}#sk-container-id-2 div.sk-serial {display: flex;flex-direction: column;align-items: center;background-color: white;padding-right: 0.2em;padding-left: 0.2em;position: relative;}#sk-container-id-2 div.sk-item {position: relative;z-index: 1;}#sk-container-id-2 div.sk-parallel {display: flex;align-items: stretch;justify-content: center;background-color: white;position: relative;}#sk-container-id-2 div.sk-item::before, #sk-container-id-2 div.sk-parallel-item::before {content: \"\";position: absolute;border-left: 1px solid gray;box-sizing: border-box;top: 0;bottom: 0;left: 50%;z-index: -1;}#sk-container-id-2 div.sk-parallel-item {display: flex;flex-direction: column;z-index: 1;position: relative;background-color: white;}#sk-container-id-2 div.sk-parallel-item:first-child::after {align-self: flex-end;width: 50%;}#sk-container-id-2 div.sk-parallel-item:last-child::after {align-self: flex-start;width: 50%;}#sk-container-id-2 div.sk-parallel-item:only-child::after {width: 0;}#sk-container-id-2 div.sk-dashed-wrapped {border: 1px dashed gray;margin: 0 0.4em 0.5em 0.4em;box-sizing: border-box;padding-bottom: 0.4em;background-color: white;}#sk-container-id-2 div.sk-label label {font-family: monospace;font-weight: bold;display: inline-block;line-height: 1.2em;}#sk-container-id-2 div.sk-label-container {text-align: center;}#sk-container-id-2 div.sk-container {/* jupyter's `normalize.less` sets `[hidden] { display: none; }` but bootstrap.min.css set `[hidden] { display: none !important; }` so we also need the `!important` here to be able to override the default hidden behavior on the sphinx rendered scikit-learn.org. See: https://github.com/scikit-learn/scikit-learn/issues/21755 */display: inline-block !important;position: relative;}#sk-container-id-2 div.sk-text-repr-fallback {display: none;}</style><div id=\"sk-container-id-2\" class=\"sk-top-container\"><div class=\"sk-text-repr-fallback\"><pre>RandomForestClassifier()</pre><b>In a Jupyter environment, please rerun this cell to show the HTML representation or trust the notebook. <br />On GitHub, the HTML representation is unable to render, please try loading this page with nbviewer.org.</b></div><div class=\"sk-container\" hidden><div class=\"sk-item\"><div class=\"sk-estimator sk-toggleable\"><input class=\"sk-toggleable__control sk-hidden--visually\" id=\"sk-estimator-id-2\" type=\"checkbox\" checked><label for=\"sk-estimator-id-2\" class=\"sk-toggleable__label sk-toggleable__label-arrow\">RandomForestClassifier</label><div class=\"sk-toggleable__content\"><pre>RandomForestClassifier()</pre></div></div></div></div></div>"
      ],
      "text/plain": [
       "RandomForestClassifier()"
      ]
     },
     "execution_count": 38,
     "metadata": {},
     "output_type": "execute_result"
    }
   ],
   "source": [
    "random_forest.predict()"
   ]
  }
 ],
 "metadata": {
  "kernelspec": {
   "display_name": "Python 3 (ipykernel)",
   "language": "python",
   "name": "python3"
  },
  "language_info": {
   "codemirror_mode": {
    "name": "ipython",
    "version": 3
   },
   "file_extension": ".py",
   "mimetype": "text/x-python",
   "name": "python",
   "nbconvert_exporter": "python",
   "pygments_lexer": "ipython3",
   "version": "3.11.4"
  }
 },
 "nbformat": 4,
 "nbformat_minor": 5
}
